{
 "cells": [
  {
   "cell_type": "markdown",
   "metadata": {},
   "source": [
    "Assign multiple variables"
   ]
  },
  {
   "cell_type": "code",
   "execution_count": 1,
   "metadata": {},
   "outputs": [],
   "source": [
    "age = 9\n",
    "color = \"blue\"\n",
    "country = \"Algeria\"\n",
    "name = \"Adeola\"\n",
    "location = \"Festac\"\n",
    "food = \"Rice\"\n",
    "code_language = \"Python\""
   ]
  },
  {
   "cell_type": "markdown",
   "metadata": {},
   "source": [
    "Using boolean comparison show the results of your truth table"
   ]
  },
  {
   "cell_type": "code",
   "execution_count": 33,
   "metadata": {},
   "outputs": [
    {
     "name": "stdout",
     "output_type": "stream",
     "text": [
      "the number of rows will be16\n",
      "the widest number in the table is 4\n"
     ]
    }
   ],
   "source": [
    "my_list = [\"a\",\"b\",\"c\",\"d\"]\n",
    "number_of_rows = len(my_list) ** 2\n",
    "print(\"the number of rows will be{0}\".format(number_of_rows))\n",
    "widest_num_in_table = len(str(bin(number_of_rows-1)[2:]))\n",
    "print(\"the widest number in the table is {0}\".format(widest_num_in_table))"
   ]
  },
  {
   "cell_type": "code",
   "execution_count": 37,
   "metadata": {},
   "outputs": [
    {
     "name": "stdout",
     "output_type": "stream",
     "text": [
      "False\n",
      "False\n",
      "False\n",
      "False\n",
      "False\n",
      "False\n",
      "False\n",
      "True\n",
      "False\n",
      "False\n",
      "True\n",
      "False\n",
      "False\n",
      "False\n",
      "True\n",
      "True\n",
      "False\n",
      "True\n",
      "False\n",
      "False\n",
      "False\n",
      "True\n",
      "False\n",
      "True\n",
      "False\n",
      "True\n",
      "True\n",
      "False\n",
      "False\n",
      "True\n",
      "True\n",
      "True\n",
      "True\n",
      "False\n",
      "False\n",
      "False\n",
      "True\n",
      "False\n",
      "False\n",
      "True\n",
      "True\n",
      "False\n",
      "True\n",
      "False\n",
      "True\n",
      "False\n",
      "True\n",
      "True\n",
      "True\n",
      "True\n",
      "False\n",
      "False\n",
      "True\n",
      "True\n",
      "False\n",
      "True\n",
      "True\n",
      "True\n",
      "True\n",
      "False\n",
      "True\n",
      "True\n",
      "True\n",
      "True\n"
     ]
    }
   ],
   "source": [
    "\n",
    "for i in range(number_of_rows):\n",
    "    current__binary_number = bin(i)[2:].zfill(widest_num_in_table)\n",
    "    for letter in str(current__binary_number):\n",
    "        print(bool(int(letter)))\n",
    "\n",
    "# if 0 > false, if 1 >True, attach append to the list of items"
   ]
  },
  {
   "cell_type": "markdown",
   "metadata": {},
   "source": [
    "List 10 methods for manipulating strings "
   ]
  },
  {
   "cell_type": "code",
   "execution_count": null,
   "metadata": {},
   "outputs": [],
   "source": [
    "capitalize( ) function\n",
    "lower( ) function\n",
    "title( ) function\n",
    "casefold( ) function\n",
    "upper( ) function\n",
    "count( ) function\n",
    "find( ) function\n",
    "replace( ) function\n",
    "swapcase( ) function\n",
    "join( ) function"
   ]
  },
  {
   "cell_type": "markdown",
   "metadata": {},
   "source": [
    "Write an expression to calculate the following:\n",
    "● Area of a circle (hint: pi*r^2, pi = 3.142)\n",
    "● area of a rectangle (hint: length * width)"
   ]
  },
  {
   "cell_type": "code",
   "execution_count": 48,
   "metadata": {},
   "outputs": [
    {
     "name": "stdout",
     "output_type": "stream",
     "text": [
      "153.958\n"
     ]
    }
   ],
   "source": [
    "#area of a circle\n",
    "\n",
    "\n",
    "r = 7\n",
    "pi = 3.142\n",
    "print(pi*r**2)"
   ]
  },
  {
   "cell_type": "code",
   "execution_count": 47,
   "metadata": {},
   "outputs": [
    {
     "name": "stdout",
     "output_type": "stream",
     "text": [
      "56\n"
     ]
    }
   ],
   "source": [
    "#area of a rectangle\n",
    "\n",
    "length = 7\n",
    "width= 8\n",
    "area= length*width\n",
    "print(area)"
   ]
  },
  {
   "cell_type": "markdown",
   "metadata": {},
   "source": [
    "Create your on list and do the following:\n",
    "● remove, sort, pop, reverse, and apply comparison operators on your list\n",
    "● Delete your list completely\n"
   ]
  },
  {
   "cell_type": "code",
   "execution_count": 49,
   "metadata": {},
   "outputs": [],
   "source": [
    "my_list = [\"10\",\"17\",\"20\",\"30\",\"40\",\"50\"]"
   ]
  },
  {
   "cell_type": "code",
   "execution_count": 58,
   "metadata": {},
   "outputs": [
    {
     "name": "stdout",
     "output_type": "stream",
     "text": [
      "['10', '17', '20', '40', '50']\n"
     ]
    }
   ],
   "source": [
    "#remove 30\n",
    "my_list = [\"10\",\"17\",\"20\",\"30\",\"40\",\"50\"]\n",
    "my_list.remove(\"30\")\n",
    "print(my_list)"
   ]
  },
  {
   "cell_type": "code",
   "execution_count": 62,
   "metadata": {},
   "outputs": [
    {
     "name": "stdout",
     "output_type": "stream",
     "text": [
      "['10', '11', '17', '20', '30', '40', '50']\n"
     ]
    }
   ],
   "source": [
    "#sort to sort my list\n",
    "new_list = [\"10\",\"17\",\"30\",\"40\",\"50\",\"11\",\"20\"]\n",
    "new_list.sort()\n",
    "print(new_list)"
   ]
  },
  {
   "cell_type": "code",
   "execution_count": 64,
   "metadata": {},
   "outputs": [
    {
     "name": "stdout",
     "output_type": "stream",
     "text": [
      "['mango', 'banana', 'pineapple']\n"
     ]
    }
   ],
   "source": [
    "#pop remove sprecified index\n",
    "fruit_list = [\"mango\",\"pear\",\"banana\",\"pineapple\"]\n",
    "fruit_list.pop(1)\n",
    "print(fruit_list)\n"
   ]
  },
  {
   "cell_type": "code",
   "execution_count": 66,
   "metadata": {},
   "outputs": [
    {
     "name": "stdout",
     "output_type": "stream",
     "text": [
      "elppaenip\n"
     ]
    }
   ],
   "source": [
    "#reverse\n",
    "txt = \"pineapple\"[::-1]\n",
    "print(txt)\n"
   ]
  },
  {
   "cell_type": "code",
   "execution_count": 72,
   "metadata": {},
   "outputs": [
    {
     "name": "stdout",
     "output_type": "stream",
     "text": [
      "False\n",
      "True\n",
      "False\n",
      "True\n",
      "False\n",
      "True\n"
     ]
    }
   ],
   "source": [
    "#comparison operators \n",
    "x = 9\n",
    "y = 11\n",
    "\n",
    "print(x==y)\n",
    "print(x!=y)\n",
    "print(x>y)\n",
    "print(x<y)\n",
    "print(x>=y)\n",
    "print(x<=y)\n"
   ]
  },
  {
   "cell_type": "code",
   "execution_count": null,
   "metadata": {},
   "outputs": [],
   "source": []
  },
  {
   "cell_type": "markdown",
   "metadata": {},
   "source": [
    "Create a tuple containing your fruits and another containing vegetable;\n",
    "● Join the tuples and assign them to a new variable\n",
    "● Slice out 3 items from the new list\n",
    "● Check if an item exists\n",
    "○ Check if 'Estonia' is a nordic country\n",
    "○ Check if 'Iceland' is a nordic country\n",
    "nordic_countries = ('Denmark', 'Finland','Iceland', 'Norway', 'Sweden')\n",
    "\n"
   ]
  },
  {
   "cell_type": "markdown",
   "metadata": {},
   "source": []
  }
 ],
 "metadata": {
  "kernelspec": {
   "display_name": "Python 3.10.0 64-bit",
   "language": "python",
   "name": "python3"
  },
  "language_info": {
   "codemirror_mode": {
    "name": "ipython",
    "version": 3
   },
   "file_extension": ".py",
   "mimetype": "text/x-python",
   "name": "python",
   "nbconvert_exporter": "python",
   "pygments_lexer": "ipython3",
   "version": "3.10.0"
  },
  "orig_nbformat": 4,
  "vscode": {
   "interpreter": {
    "hash": "aee8b7b246df8f9039afb4144a1f6fd8d2ca17a180786b69acc140d282b71a49"
   }
  }
 },
 "nbformat": 4,
 "nbformat_minor": 2
}
